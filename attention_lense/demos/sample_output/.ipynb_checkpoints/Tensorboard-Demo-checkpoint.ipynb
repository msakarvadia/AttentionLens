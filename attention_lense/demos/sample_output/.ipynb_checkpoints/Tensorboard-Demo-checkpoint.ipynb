{
 "cells": [
  {
   "cell_type": "code",
   "execution_count": 6,
   "id": "initial_id",
   "metadata": {
    "ExecuteTime": {
     "end_time": "2023-08-09T18:24:35.497751Z",
     "start_time": "2023-08-09T18:24:35.490607Z"
    }
   },
   "outputs": [],
   "source": [
    "import matplotlib.pyplot as plt\n",
    "import seaborn as sns\n",
    "import tensorboard as tb"
   ]
  },
  {
   "cell_type": "markdown",
   "id": "98a8dd8c253461ff",
   "metadata": {},
   "source": [
    "# Loading Sample Tensorboard Output\n",
    "The sample output file from Tensorboard in this current directory can, of course, be loaded into the Tensorboard suite in the browser. To do this, simply download the raw file into some directory, open a terminal session in that directory, and run the following (assuming `tensorboard` is installed):\n",
    "```shell\n",
    "tensorboard --port 6060 --logdir .\n",
    "```\n",
    "\n",
    "After running that command, you then just need to go to [http://localhost:6060/]() to view the results in TensorBoard. However, these results can also be loaded as a `pandas.DataFrame`, which is what we do in this notebook."
   ]
  },
  {
   "cell_type": "code",
   "execution_count": 2,
   "id": "7fbf032693f93df6",
   "metadata": {
    "ExecuteTime": {
     "end_time": "2023-08-09T18:24:38.381616Z",
     "start_time": "2023-08-09T18:24:35.497266Z"
    }
   },
   "outputs": [
    {
     "name": "stdout",
     "output_type": "stream",
     "text": [
      "TensorBoard version:  2.10.1\n"
     ]
    }
   ],
   "source": [
    "from packaging import version\n",
    "\n",
    "major_ver, minor_ver, _ = version.parse(tb.__version__).release\n",
    "assert major_ver >= 2 and minor_ver >= 3, \\\n",
    "    \"This notebook requires TensorBoard 2.3 or later\"\n",
    "print(f\"TensorBoard version: \", tb.__version__)"
   ]
  },
  {
   "cell_type": "markdown",
   "id": "17172ebf",
   "metadata": {},
   "source": [
    "## Implementation: Pure TensorFlow/TensorBoard\n",
    "Unfortunately, to parse the `.tfevents` files, you need to import `tensorflow`. Below is an implementation of this"
   ]
  },
  {
   "cell_type": "code",
   "execution_count": 3,
   "id": "a138c2e4a780704a",
   "metadata": {
    "ExecuteTime": {
     "end_time": "2023-08-09T18:19:50.397339Z",
     "start_time": "2023-08-09T18:19:50.392003Z"
    }
   },
   "outputs": [],
   "source": [
    "def convert_tb_data(root_dir, sort_by=None):\n",
    "    \"\"\"Convert local TensorBoard data into Pandas DataFrame.\n",
    "    \n",
    "    Function takes the root directory path and recursively parses\n",
    "    all events data.    \n",
    "    If the `sort_by` value is provided then it will use that column\n",
    "    to sort values; typically `wall_time` or `step`.\n",
    "    \n",
    "    *Note* that the whole data is converted into a DataFrame.\n",
    "    Depending on the data size this might take a while. If it takes\n",
    "    too long then narrow it to some sub-directories.\n",
    "    \n",
    "    Paramters:\n",
    "        root_dir: (str) path to root dir with tensorboard data.\n",
    "        sort_by: (optional str) column name to sort by.\n",
    "    \n",
    "    Returns:\n",
    "        pandas.DataFrame with [wall_time, name, step, value] columns.\n",
    "    \n",
    "    \"\"\"\n",
    "    import os\n",
    "    import pandas as pd\n",
    "    from tensorflow.python.summary.summary_iterator import summary_iterator\n",
    "\n",
    "    def convert_tfevent(filepath):\n",
    "        return pd.DataFrame([\n",
    "            parse_tfevent(e) for e in summary_iterator(filepath) if len(e.summary.value)\n",
    "        ])\n",
    "\n",
    "    def parse_tfevent(tfevent):\n",
    "        return dict(\n",
    "            wall_time=tfevent.wall_time,\n",
    "            name=tfevent.summary.value[0].tag,\n",
    "            step=tfevent.step,\n",
    "            value=float(tfevent.summary.value[0].simple_value),\n",
    "        )\n",
    "    \n",
    "    columns_order = ['wall_time', 'name', 'step', 'value']\n",
    "    \n",
    "    out = []\n",
    "    for (root, _, filenames) in os.walk(root_dir):\n",
    "        for filename in filenames:\n",
    "            if \"events.out.tfevents\" not in filename:\n",
    "                continue\n",
    "            file_full_path = os.path.join(root, filename)\n",
    "            out.append(convert_tfevent(file_full_path))\n",
    "\n",
    "    # Concatenate (and sort) all partial individual dataframes\n",
    "    all_df = pd.concat(out)[columns_order]\n",
    "    if sort_by is not None:\n",
    "        all_df = all_df.sort_values(sort_by)\n",
    "        \n",
    "    return all_df.reset_index(drop=True)\n",
    "    "
   ]
  },
  {
   "cell_type": "code",
   "execution_count": 4,
   "id": "ca5153e4c7211977",
   "metadata": {
    "ExecuteTime": {
     "end_time": "2023-08-09T18:24:38.419378Z",
     "start_time": "2023-08-09T18:24:35.507620Z"
    }
   },
   "outputs": [
    {
     "name": "stderr",
     "output_type": "stream",
     "text": [
      "2023-08-09 13:25:57.806641: I tensorflow/core/platform/cpu_feature_guard.cc:193] This TensorFlow binary is optimized with oneAPI Deep Neural Network Library (oneDNN) to use the following CPU instructions in performance-critical operations:  SSE4.1 SSE4.2\n",
      "To enable them in other operations, rebuild TensorFlow with the appropriate compiler flags.\n"
     ]
    },
    {
     "name": "stdout",
     "output_type": "stream",
     "text": [
      "WARNING:tensorflow:From /opt/anaconda3/envs/AttentionLens/lib/python3.10/site-packages/tensorflow/python/summary/summary_iterator.py:27: tf_record_iterator (from tensorflow.python.lib.io.tf_record) is deprecated and will be removed in a future version.\n",
      "Instructions for updating:\n",
      "Use eager execution and: \n",
      "`tf.data.TFRecordDataset(path)`\n"
     ]
    },
    {
     "data": {
      "text/html": [
       "<div>\n",
       "<style scoped>\n",
       "    .dataframe tbody tr th:only-of-type {\n",
       "        vertical-align: middle;\n",
       "    }\n",
       "\n",
       "    .dataframe tbody tr th {\n",
       "        vertical-align: top;\n",
       "    }\n",
       "\n",
       "    .dataframe thead th {\n",
       "        text-align: right;\n",
       "    }\n",
       "</style>\n",
       "<table border=\"1\" class=\"dataframe\">\n",
       "  <thead>\n",
       "    <tr style=\"text-align: right;\">\n",
       "      <th></th>\n",
       "      <th>wall_time</th>\n",
       "      <th>name</th>\n",
       "      <th>step</th>\n",
       "      <th>value</th>\n",
       "    </tr>\n",
       "  </thead>\n",
       "  <tbody>\n",
       "    <tr>\n",
       "      <th>0</th>\n",
       "      <td>1.691410e+09</td>\n",
       "      <td>train_loss</td>\n",
       "      <td>49</td>\n",
       "      <td>0.836164</td>\n",
       "    </tr>\n",
       "    <tr>\n",
       "      <th>1</th>\n",
       "      <td>1.691410e+09</td>\n",
       "      <td>epoch</td>\n",
       "      <td>49</td>\n",
       "      <td>0.000000</td>\n",
       "    </tr>\n",
       "    <tr>\n",
       "      <th>2</th>\n",
       "      <td>1.691410e+09</td>\n",
       "      <td>train_loss</td>\n",
       "      <td>99</td>\n",
       "      <td>0.123193</td>\n",
       "    </tr>\n",
       "    <tr>\n",
       "      <th>3</th>\n",
       "      <td>1.691410e+09</td>\n",
       "      <td>epoch</td>\n",
       "      <td>99</td>\n",
       "      <td>0.000000</td>\n",
       "    </tr>\n",
       "    <tr>\n",
       "      <th>4</th>\n",
       "      <td>1.691410e+09</td>\n",
       "      <td>train_loss</td>\n",
       "      <td>149</td>\n",
       "      <td>0.122065</td>\n",
       "    </tr>\n",
       "  </tbody>\n",
       "</table>\n",
       "</div>"
      ],
      "text/plain": [
       "      wall_time        name  step     value\n",
       "0  1.691410e+09  train_loss    49  0.836164\n",
       "1  1.691410e+09       epoch    49  0.000000\n",
       "2  1.691410e+09  train_loss    99  0.123193\n",
       "3  1.691410e+09       epoch    99  0.000000\n",
       "4  1.691410e+09  train_loss   149  0.122065"
      ]
     },
     "execution_count": 4,
     "metadata": {},
     "output_type": "execute_result"
    }
   ],
   "source": [
    "experiment = \"events.out.tfevents.1691409406.x3209c0s19b0n0.34463.0\"\n",
    "df = convert_tb_data(\".\")\n",
    "df.head()"
   ]
  },
  {
   "cell_type": "code",
   "execution_count": 7,
   "id": "f7bcedad0df250ee",
   "metadata": {
    "ExecuteTime": {
     "end_time": "2023-08-09T18:24:38.424098Z",
     "start_time": "2023-08-09T18:24:35.510929Z"
    }
   },
   "outputs": [
    {
     "data": {
      "image/png": "[encoded data removed]",
      "text/plain": [
       "<Figure size 640x480 with 1 Axes>"
      ]
     },
     "metadata": {},
     "output_type": "display_data"
    }
   ],
   "source": [
    "sns.lineplot(df.query(\"name == 'train_loss'\"), x=\"step\", y=\"value\")\n",
    "plt.show()"
   ]
  },
  {
   "cell_type": "code",
   "execution_count": null,
   "id": "8ba73999",
   "metadata": {},
   "outputs": [],
   "source": []
  }
 ],
 "metadata": {
  "kernelspec": {
   "display_name": "Python 3 (ipykernel)",
   "language": "python",
   "name": "python3"
  },
  "language_info": {
   "codemirror_mode": {
    "name": "ipython",
    "version": 3
   },
   "file_extension": ".py",
   "mimetype": "text/x-python",
   "name": "python",
   "nbconvert_exporter": "python",
   "pygments_lexer": "ipython3",
   "version": "3.10.12"
  }
 },
 "nbformat": 4,
 "nbformat_minor": 5
}
